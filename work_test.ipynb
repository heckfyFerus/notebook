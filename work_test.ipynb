{
 "cells": [
  {
   "cell_type": "code",
   "execution_count": 1,
   "metadata": {},
   "outputs": [
    {
     "name": "stdout",
     "output_type": "stream",
     "text": [
      "\n",
      "Гена, вот тот самый список всех файлов который ты просил...... \n",
      "daaaaaaaaaa.csv\n",
      "file_red.csv\n",
      "file_writer.csv\n"
     ]
    }
   ],
   "source": [
    "from file_library_oop import *\n",
    "\n",
    "# Создадим объект\n",
    "a=A()\n",
    "\n",
    "# выведем на экран список всех файлов из папки files\n",
    "a.get_list_files()"
   ]
  },
  {
   "cell_type": "code",
   "execution_count": 2,
   "metadata": {},
   "outputs": [
    {
     "name": "stdout",
     "output_type": "stream",
     "text": [
      "\n",
      "Фамилия   Имя      Номер    Что может?          \n",
      "------------------------------------------------\n",
      "Иванов    Иван     34563456 Описание Иванова    \n",
      "Петров    Петр     222      Описание Петрова    \n",
      "Васичкина Василиса 333      Описание Васичкиной \n",
      "Питонов   Антон    777      умеет в Питон       \n"
     ]
    }
   ],
   "source": [
    "# передадим в переменные имена файлов\n",
    "f1='file_red.csv'\n",
    "f2='file_writer.csv'\n",
    "\n",
    "# выведем на экран и полюбуемся нашей таблицей одной\n",
    "a.get_show_data(f1)"
   ]
  },
  {
   "cell_type": "code",
   "execution_count": 3,
   "metadata": {},
   "outputs": [
    {
     "name": "stdout",
     "output_type": "stream",
     "text": [
      "\n",
      "Фамилия   Имя      Номер Что может?           \n",
      "----------------------------------------------\n",
      "Иванова   Настя    111   Может все            \n",
      "Петрова   Василиса 222   Ни чего              \n",
      "Питоновая Антонина 444   Либо все либо ничего \n"
     ]
    }
   ],
   "source": [
    "# полюбуемся другой нашей таблицей\n",
    "a.get_show_data(f2)"
   ]
  },
  {
   "cell_type": "code",
   "execution_count": 4,
   "metadata": {},
   "outputs": [
    {
     "name": "stdout",
     "output_type": "stream",
     "text": [
      "<class 'list'>\n",
      "Фамилия Имя Номер Что может?\n",
      "Иванов Иван 34563456 Описание Иванова\n",
      "Петров Петр 222 Описание Петрова\n",
      "Васичкина Василиса 333 Описание Васичкиной\n",
      "Питонов Антон 777 умеет в Питон\n"
     ]
    }
   ],
   "source": [
    "# передадим в метод переменную (f1 т.е. нашу первую таблицу) с названием файла\n",
    "# который хотим открыть, метод вернет список\n",
    "t_1=a.get_return_data_list(f1)\n",
    "\n",
    "# распечатаем и проверем тип данных и сами данные\n",
    "print(type(t_1))\n",
    "for i in t_1:\n",
    "    print(*i)"
   ]
  },
  {
   "cell_type": "code",
   "execution_count": 5,
   "metadata": {},
   "outputs": [
    {
     "name": "stdout",
     "output_type": "stream",
     "text": [
      "<class 'list'>\n",
      "Фамилия Имя Номер Что может?\n",
      "Иванова Настя 111 Может все\n",
      "Петрова Василиса 222 Ни чего\n",
      "Питоновая Антонина 444 Либо все либо ничего\n"
     ]
    }
   ],
   "source": [
    "# теперь передадим в метод вторую нашу табилцу (f2)\n",
    "t_2=a.get_return_data_list(f2)\n",
    "\n",
    "# распечатаем и проверим тип данных и сами данные\n",
    "print(type(t_2))\n",
    "for i in t_2:\n",
    "    print(*i)"
   ]
  },
  {
   "cell_type": "code",
   "execution_count": 6,
   "metadata": {},
   "outputs": [
    {
     "name": "stdout",
     "output_type": "stream",
     "text": [
      "Данные записаны в файл daaaaaaaaaa.csv\n"
     ]
    }
   ],
   "source": [
    "test_file_name_del = 'daaaaaaaaaa.csv'\n",
    "a.writer_in_file(t_2, test_file_name_del)"
   ]
  },
  {
   "cell_type": "code",
   "execution_count": 7,
   "metadata": {},
   "outputs": [
    {
     "data": {
      "text/plain": [
       "[['Фамилия', 'Имя', 'Номер', 'Что может?'],\n",
       " ['Иванова', 'Настя', '111', 'Может все'],\n",
       " ['Петрова', 'Василиса', '222', 'Ни чего'],\n",
       " ['Питоновая', 'Антонина', '444', 'Либо все либо ничего'],\n",
       " ['Васичкина', 'Василиса', '333', 'Описание Васичкиной']]"
      ]
     },
     "execution_count": 7,
     "metadata": {},
     "output_type": "execute_result"
    }
   ],
   "source": [
    "# все устал пора закруглятся\n",
    "# добавим васичкину в другой файл\n",
    "# test_file_name_del = 'daaaaaaaaaa.csv'\n",
    "# a.writer_in_file(t_1,test_file_name_del) \n",
    "# в начале из одного списка добавим в другой список,\n",
    "# а потом уже этот новый список перезапишем в файл\n",
    "# таким образом васичкина появилась в списке t_2\n",
    "t_1[3]\n",
    "t_2.append(t_1[3])\n",
    "t_2"
   ]
  },
  {
   "cell_type": "code",
   "execution_count": 8,
   "metadata": {},
   "outputs": [
    {
     "name": "stdout",
     "output_type": "stream",
     "text": [
      "Данные записаны в файл daaaaaaaaaa.csv\n"
     ]
    }
   ],
   "source": [
    "# теперь мы этот новый список запишев в файл \n",
    "test_file_name_del = 'daaaaaaaaaa.csv'\n",
    "a.writer_in_file(t_2, test_file_name_del)\n"
   ]
  },
  {
   "cell_type": "code",
   "execution_count": 9,
   "metadata": {},
   "outputs": [
    {
     "name": "stdout",
     "output_type": "stream",
     "text": [
      "\n",
      "Фамилия   Имя      Номер Что может?           \n",
      "----------------------------------------------\n",
      "Иванова   Настя    111   Может все            \n",
      "Петрова   Василиса 222   Ни чего              \n",
      "Питоновая Антонина 444   Либо все либо ничего \n",
      "Васичкина Василиса 333   Описание Васичкиной  \n"
     ]
    }
   ],
   "source": [
    "# все получилось и на последок выведем данные файла на экран\n",
    "# чтобы убедится что домашнее задание выполнено\n",
    "a.get_show_data(test_file_name_del)\n"
   ]
  }
 ],
 "metadata": {
  "kernelspec": {
   "display_name": "Python 3",
   "language": "python",
   "name": "python3"
  },
  "language_info": {
   "codemirror_mode": {
    "name": "ipython",
    "version": 3
   },
   "file_extension": ".py",
   "mimetype": "text/x-python",
   "name": "python",
   "nbconvert_exporter": "python",
   "pygments_lexer": "ipython3",
   "version": "3.12.1"
  }
 },
 "nbformat": 4,
 "nbformat_minor": 2
}
